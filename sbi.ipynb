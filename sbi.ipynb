{
 "cells": [
  {
   "cell_type": "code",
   "id": "initial_id",
   "metadata": {
    "collapsed": true
   },
   "source": [
    "%load_ext autoreload\n",
    "%autoreload 2"
   ],
   "outputs": [],
   "execution_count": null
  },
  {
   "metadata": {},
   "cell_type": "code",
   "source": "#!which python",
   "id": "e89430ee3357f831",
   "outputs": [],
   "execution_count": null
  },
  {
   "metadata": {},
   "cell_type": "code",
   "source": [
    "from model import model_sim, param_gen\n",
    "import numpy as np\n",
    "import torch\n",
    "import json\n",
    "import os"
   ],
   "id": "e44f407800bbbd57",
   "outputs": [],
   "execution_count": null
  },
  {
   "metadata": {},
   "cell_type": "code",
   "source": [
    "path = 'data/environments'\n",
    "json_files = [file for file in os.listdir(path) if file.endswith('_canon.json')]\n",
    "envList = []\n",
    "for file in json_files:\n",
    "    f=open(os.path.join(path, file))\n",
    "    envList.append(json.load(f))\n",
    "\n",
    "torch.manual_seed(1)\n",
    "\n",
    "np.random.seed(42)\n",
    "pars = param_gen(4, 20, hom=True, models=3)\n",
    "simulations = model_sim(pars, envList, 8, 15, payoff=True)"
   ],
   "id": "de6e40d28f1bdfd7",
   "outputs": [],
   "execution_count": null
  },
  {
   "metadata": {},
   "cell_type": "code",
   "source": "simulations.head()",
   "id": "e89052bdaf0e312f",
   "outputs": [],
   "execution_count": null
  },
  {
   "metadata": {},
   "cell_type": "code",
   "source": "np.sort(simulations.env.unique())",
   "id": "bec2fffb2506f761",
   "outputs": [],
   "execution_count": null
  },
  {
   "metadata": {},
   "cell_type": "code",
   "source": [
    "theta = torch.tensor(simulations[['env', 'trial', 'lambda', 'beta', 'tau', 'eps_soc']].to_numpy(), dtype=torch.float32)\n",
    "# divide env by max(env) and trial by max(trial) to normalize\n",
    "theta[:, 0] = theta[:, 0] / theta[:, 0].max()\n",
    "theta[:, 1] = theta[:, 1] / theta[:, 1].max()\n",
    "\n",
    "x = torch.tensor(simulations['choice'].to_numpy(), dtype=torch.float32).unsqueeze(1)"
   ],
   "id": "4725e3d94f5c2632",
   "outputs": [],
   "execution_count": null
  },
  {
   "metadata": {},
   "cell_type": "code",
   "source": [
    "from sbi.utils import BoxUniform, MultipleIndependent, mcmc_transform\n",
    "from torch.distributions import LogNormal, Exponential\n",
    "\n",
    "n_env = simulations.env.unique().shape[0]\n",
    "prior = MultipleIndependent(\n",
    "    [\n",
    "        BoxUniform(torch.tensor([0.0]), torch.tensor([1.0])),   # env\n",
    "        BoxUniform(torch.tensor([0.0]), torch.tensor([1.0])),   # trial\n",
    "        LogNormal(torch.tensor([-0.75]), torch.tensor([0.5])),  # lambda\n",
    "        LogNormal(torch.tensor([-0.75]), torch.tensor([0.5])),  # beta\n",
    "        LogNormal(torch.tensor([-4.5]), torch.tensor([0.9])),   # tau\n",
    "        Exponential(torch.tensor([2.0])),  # eps_soc\n",
    "    ],\n",
    "    validate_args=False,\n",
    ")\n",
    "\n",
    "prior_transform = mcmc_transform(prior)\n",
    "num_simulations = 1000\n",
    "prior.sample((num_simulations,))"
   ],
   "id": "37fb1e88e4a60d7",
   "outputs": [],
   "execution_count": null
  },
  {
   "metadata": {},
   "cell_type": "code",
   "source": [
    "from sbi.inference import NLE\n",
    "trainer = NLE(prior)"
   ],
   "id": "66a058bcfe6b8ffc",
   "outputs": [],
   "execution_count": null
  },
  {
   "metadata": {},
   "cell_type": "code",
   "source": "estimator = trainer.append_simulations(theta, x)",
   "id": "41ef2f2b17bef786",
   "outputs": [],
   "execution_count": null
  },
  {
   "metadata": {},
   "cell_type": "code",
   "source": "density_estimator = estimator.train()",
   "id": "74cff90b2310aab7",
   "outputs": [],
   "execution_count": null
  },
  {
   "metadata": {},
   "cell_type": "code",
   "source": [
    "posterior = trainer.build_posterior(density_estimator)\n",
    "\n",
    "print(posterior) # prints how the posterior was trained"
   ],
   "id": "644a3b5914e67979",
   "outputs": [],
   "execution_count": null
  },
  {
   "metadata": {},
   "cell_type": "code",
   "source": "posterior_sample = posterior.sample((10,), x=x[:20, :])",
   "id": "35cd10d6d663cfcf",
   "outputs": [],
   "execution_count": null
  },
  {
   "metadata": {},
   "cell_type": "code",
   "source": [
    "from sbi.analysis import pairplot\n",
    "_ = pairplot(posterior_sample,\n",
    "             # limits=[[-2, 2], [-2, 2], [-2, 2]],\n",
    "             # figsize=(6, 6),\n",
    "             labels=[\"env\", \"trial\", r\"$\\lambda$\", r\"$\\beta$\", r\"$\\tau$\", r\"$\\epsilon_{soc}$\"],\n",
    "             )"
   ],
   "id": "4c2c2b8072cf42df",
   "outputs": [],
   "execution_count": null
  },
  {
   "metadata": {},
   "cell_type": "code",
   "source": "",
   "id": "1f34924811d90a6b",
   "outputs": [],
   "execution_count": null
  }
 ],
 "metadata": {
  "kernelspec": {
   "display_name": "Python 3",
   "language": "python",
   "name": "python3"
  },
  "language_info": {
   "codemirror_mode": {
    "name": "ipython",
    "version": 2
   },
   "file_extension": ".py",
   "mimetype": "text/x-python",
   "name": "python",
   "nbconvert_exporter": "python",
   "pygments_lexer": "ipython2",
   "version": "2.7.6"
  }
 },
 "nbformat": 4,
 "nbformat_minor": 5
}
