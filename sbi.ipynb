{
 "cells": [
  {
   "cell_type": "code",
   "id": "initial_id",
   "metadata": {
    "collapsed": true,
    "ExecuteTime": {
     "end_time": "2025-02-11T09:55:09.120792Z",
     "start_time": "2025-02-11T09:55:09.104086Z"
    }
   },
   "source": [
    "%load_ext autoreload\n",
    "%autoreload 2"
   ],
   "outputs": [],
   "execution_count": 2
  },
  {
   "metadata": {},
   "cell_type": "code",
   "source": "#!which python",
   "id": "e89430ee3357f831",
   "outputs": [],
   "execution_count": null
  },
  {
   "metadata": {
    "ExecuteTime": {
     "end_time": "2025-02-11T09:55:09.095354Z",
     "start_time": "2025-02-11T09:55:06.704033Z"
    }
   },
   "cell_type": "code",
   "source": [
    "from model import model_sim, param_gen\n",
    "import numpy as np\n",
    "import pandas as pd\n",
    "import torch\n",
    "import json\n",
    "import os"
   ],
   "id": "e44f407800bbbd57",
   "outputs": [],
   "execution_count": 1
  },
  {
   "metadata": {
    "ExecuteTime": {
     "end_time": "2025-02-11T10:26:44.168496Z",
     "start_time": "2025-02-11T10:26:44.070605Z"
    }
   },
   "cell_type": "code",
   "source": [
    "subj_data_all = pd.read_csv(\"./Data/e1_data.csv\")\n",
    "group_id = 0\n",
    "round_id = 0\n",
    "subj_data = subj_data_all[(subj_data_all['group'] == group_id) & (subj_data_all['round'] == round_id)]\n",
    "fitting_data = np.load(f\"data/e1_fitting_data/SG_pars_poisson_{group_id}.npy\", allow_pickle=True)"
   ],
   "id": "ae366aaf6baadc04",
   "outputs": [],
   "execution_count": 38
  },
  {
   "metadata": {
    "ExecuteTime": {
     "end_time": "2025-02-11T10:48:32.844019Z",
     "start_time": "2025-02-11T10:48:32.797093Z"
    }
   },
   "cell_type": "code",
   "source": [
    "agent_id = 0\n",
    "pars = [\"agent_id\", \"group_id\", \"lambda\",\"beta\",\"tau\",\"eps_soc\"]\n",
    "\n",
    "fitted_params = pd.DataFrame(data=np.exp(fitting_data[agent_id * 8 + round_id, 0, 2:]), index=pars[2:], columns=[\"value\"])\n",
    "\n",
    "for l, p in zip(pars[2:], np.exp(fitting_data[agent_id * 8 + round_id, 0, 2:])):\n",
    "    print(f\"{l}: {p}\")"
   ],
   "id": "6fe1526b80b35a73",
   "outputs": [
    {
     "name": "stdout",
     "output_type": "stream",
     "text": [
      "lambda: 0.7265764656663888\n",
      "beta: 0.44939030271475666\n",
      "tau: 0.01856678856848348\n",
      "eps_soc: 18.999999999999996\n"
     ]
    }
   ],
   "execution_count": 74
  },
  {
   "metadata": {
    "ExecuteTime": {
     "end_time": "2025-02-11T10:48:33.686102Z",
     "start_time": "2025-02-11T10:48:33.666687Z"
    }
   },
   "cell_type": "code",
   "source": "fitted_params.loc['lambda', 'value']",
   "id": "e39bdf29ce4d3eae",
   "outputs": [
    {
     "data": {
      "text/plain": [
       "0.7265764656663888"
      ]
     },
     "execution_count": 75,
     "metadata": {},
     "output_type": "execute_result"
    }
   ],
   "execution_count": 75
  },
  {
   "metadata": {
    "ExecuteTime": {
     "end_time": "2025-02-11T10:48:34.133042Z",
     "start_time": "2025-02-11T10:48:34.118321Z"
    }
   },
   "cell_type": "code",
   "source": "env_id = subj_data.env.unique()[0]",
   "id": "ca0b826751cc6633",
   "outputs": [],
   "execution_count": 76
  },
  {
   "metadata": {
    "ExecuteTime": {
     "end_time": "2025-02-11T10:48:35.069172Z",
     "start_time": "2025-02-11T10:48:35.037586Z"
    }
   },
   "cell_type": "code",
   "source": [
    "path = 'data/environments'\n",
    "json_files = [file for file in os.listdir(path) if file.endswith('_canon.json')]\n",
    "envList_all = []\n",
    "for file in json_files:\n",
    "    f=open(os.path.join(path, file))\n",
    "    envList_all.append(json.load(f))\n",
    "\n",
    "# select only one environment\n",
    "envList =  [[envList_all[i][env_id]] for i in range(len(envList_all))]\n",
    "\n",
    "torch.manual_seed(1)\n",
    "\n",
    "np.random.seed(42)\n",
    "pars = param_gen(4, 200, hom=True, models=3)\n"
   ],
   "id": "de6e40d28f1bdfd7",
   "outputs": [],
   "execution_count": 77
  },
  {
   "metadata": {
    "ExecuteTime": {
     "end_time": "2025-02-11T10:48:36.782339Z",
     "start_time": "2025-02-11T10:48:36.747744Z"
    }
   },
   "cell_type": "code",
   "source": [
    "# fix the parameters\n",
    "for i in range(len(pars)):\n",
    "    for ii in range(len(pars[i])):\n",
    "        pars[i][ii]['lambda'] = fitted_params.loc['lambda', 'value'] #  1.11\n",
    "        # pars[i]['beta'] = 0.33\n",
    "        pars[i][ii]['tau'] = fitted_params.loc['tau', 'value'] #  0.03\n",
    "        # pars[i]['eps_soc'] = 12.55\n",
    "\n",
    "pars[0][0]"
   ],
   "id": "d3ee755f12b55643",
   "outputs": [
    {
     "data": {
      "text/plain": [
       "{'lambda': 0.7265764656663888,\n",
       " 'beta': 0.42017806748106945,\n",
       " 'tau': 0.01856678856848348,\n",
       " 'gamma': 0.0,\n",
       " 'alpha': 0.0,\n",
       " 'eps_soc': 0.7255074589209543,\n",
       " 'dummy': 0.0}"
      ]
     },
     "execution_count": 78,
     "metadata": {},
     "output_type": "execute_result"
    }
   ],
   "execution_count": 78
  },
  {
   "metadata": {
    "ExecuteTime": {
     "end_time": "2025-02-11T10:49:38.834258Z",
     "start_time": "2025-02-11T10:48:37.762751Z"
    }
   },
   "cell_type": "code",
   "source": "simulations = model_sim(pars, envList, 8, 15, payoff=True)",
   "id": "a53b11fa794d7c79",
   "outputs": [],
   "execution_count": 79
  },
  {
   "metadata": {
    "ExecuteTime": {
     "end_time": "2025-02-11T10:49:38.960369Z",
     "start_time": "2025-02-11T10:49:38.929473Z"
    }
   },
   "cell_type": "code",
   "source": "simulations.shape",
   "id": "e89052bdaf0e312f",
   "outputs": [
    {
     "data": {
      "text/plain": [
       "(96000, 14)"
      ]
     },
     "execution_count": 80,
     "metadata": {},
     "output_type": "execute_result"
    }
   ],
   "execution_count": 80
  },
  {
   "metadata": {
    "ExecuteTime": {
     "end_time": "2025-02-11T10:18:46.050713Z",
     "start_time": "2025-02-11T10:18:46.024187Z"
    }
   },
   "cell_type": "code",
   "source": "simulations.head()",
   "id": "1e82e66c375a39d1",
   "outputs": [
    {
     "data": {
      "text/plain": [
       "   agent  group  round  env  trial  choice    reward  lambda  dummy      beta  \\\n",
       "0    0.0    0.0    0.0  0.0    0.0    69.0 -0.404810    1.11    0.0  0.420178   \n",
       "1    0.0    0.0    0.0  0.0    1.0    29.0  0.188635    1.11    0.0  0.420178   \n",
       "2    0.0    0.0    0.0  0.0    2.0    23.0 -0.118017    1.11    0.0  0.420178   \n",
       "3    0.0    0.0    0.0  0.0    3.0    27.0  0.243579    1.11    0.0  0.420178   \n",
       "4    0.0    0.0    0.0  0.0    4.0     5.0  0.484855    1.11    0.0  0.420178   \n",
       "\n",
       "    tau  gamma  alpha   eps_soc  \n",
       "0  0.03    0.0    0.0  0.725507  \n",
       "1  0.03    0.0    0.0  0.725507  \n",
       "2  0.03    0.0    0.0  0.725507  \n",
       "3  0.03    0.0    0.0  0.725507  \n",
       "4  0.03    0.0    0.0  0.725507  "
      ],
      "text/html": [
       "<div>\n",
       "<style scoped>\n",
       "    .dataframe tbody tr th:only-of-type {\n",
       "        vertical-align: middle;\n",
       "    }\n",
       "\n",
       "    .dataframe tbody tr th {\n",
       "        vertical-align: top;\n",
       "    }\n",
       "\n",
       "    .dataframe thead th {\n",
       "        text-align: right;\n",
       "    }\n",
       "</style>\n",
       "<table border=\"1\" class=\"dataframe\">\n",
       "  <thead>\n",
       "    <tr style=\"text-align: right;\">\n",
       "      <th></th>\n",
       "      <th>agent</th>\n",
       "      <th>group</th>\n",
       "      <th>round</th>\n",
       "      <th>env</th>\n",
       "      <th>trial</th>\n",
       "      <th>choice</th>\n",
       "      <th>reward</th>\n",
       "      <th>lambda</th>\n",
       "      <th>dummy</th>\n",
       "      <th>beta</th>\n",
       "      <th>tau</th>\n",
       "      <th>gamma</th>\n",
       "      <th>alpha</th>\n",
       "      <th>eps_soc</th>\n",
       "    </tr>\n",
       "  </thead>\n",
       "  <tbody>\n",
       "    <tr>\n",
       "      <th>0</th>\n",
       "      <td>0.0</td>\n",
       "      <td>0.0</td>\n",
       "      <td>0.0</td>\n",
       "      <td>0.0</td>\n",
       "      <td>0.0</td>\n",
       "      <td>69.0</td>\n",
       "      <td>-0.404810</td>\n",
       "      <td>1.11</td>\n",
       "      <td>0.0</td>\n",
       "      <td>0.420178</td>\n",
       "      <td>0.03</td>\n",
       "      <td>0.0</td>\n",
       "      <td>0.0</td>\n",
       "      <td>0.725507</td>\n",
       "    </tr>\n",
       "    <tr>\n",
       "      <th>1</th>\n",
       "      <td>0.0</td>\n",
       "      <td>0.0</td>\n",
       "      <td>0.0</td>\n",
       "      <td>0.0</td>\n",
       "      <td>1.0</td>\n",
       "      <td>29.0</td>\n",
       "      <td>0.188635</td>\n",
       "      <td>1.11</td>\n",
       "      <td>0.0</td>\n",
       "      <td>0.420178</td>\n",
       "      <td>0.03</td>\n",
       "      <td>0.0</td>\n",
       "      <td>0.0</td>\n",
       "      <td>0.725507</td>\n",
       "    </tr>\n",
       "    <tr>\n",
       "      <th>2</th>\n",
       "      <td>0.0</td>\n",
       "      <td>0.0</td>\n",
       "      <td>0.0</td>\n",
       "      <td>0.0</td>\n",
       "      <td>2.0</td>\n",
       "      <td>23.0</td>\n",
       "      <td>-0.118017</td>\n",
       "      <td>1.11</td>\n",
       "      <td>0.0</td>\n",
       "      <td>0.420178</td>\n",
       "      <td>0.03</td>\n",
       "      <td>0.0</td>\n",
       "      <td>0.0</td>\n",
       "      <td>0.725507</td>\n",
       "    </tr>\n",
       "    <tr>\n",
       "      <th>3</th>\n",
       "      <td>0.0</td>\n",
       "      <td>0.0</td>\n",
       "      <td>0.0</td>\n",
       "      <td>0.0</td>\n",
       "      <td>3.0</td>\n",
       "      <td>27.0</td>\n",
       "      <td>0.243579</td>\n",
       "      <td>1.11</td>\n",
       "      <td>0.0</td>\n",
       "      <td>0.420178</td>\n",
       "      <td>0.03</td>\n",
       "      <td>0.0</td>\n",
       "      <td>0.0</td>\n",
       "      <td>0.725507</td>\n",
       "    </tr>\n",
       "    <tr>\n",
       "      <th>4</th>\n",
       "      <td>0.0</td>\n",
       "      <td>0.0</td>\n",
       "      <td>0.0</td>\n",
       "      <td>0.0</td>\n",
       "      <td>4.0</td>\n",
       "      <td>5.0</td>\n",
       "      <td>0.484855</td>\n",
       "      <td>1.11</td>\n",
       "      <td>0.0</td>\n",
       "      <td>0.420178</td>\n",
       "      <td>0.03</td>\n",
       "      <td>0.0</td>\n",
       "      <td>0.0</td>\n",
       "      <td>0.725507</td>\n",
       "    </tr>\n",
       "  </tbody>\n",
       "</table>\n",
       "</div>"
      ]
     },
     "execution_count": 28,
     "metadata": {},
     "output_type": "execute_result"
    }
   ],
   "execution_count": 28
  },
  {
   "metadata": {
    "ExecuteTime": {
     "end_time": "2025-02-11T10:19:09.722495Z",
     "start_time": "2025-02-11T10:19:09.693339Z"
    }
   },
   "cell_type": "code",
   "source": "np.sort(simulations.env.unique())",
   "id": "bec2fffb2506f761",
   "outputs": [
    {
     "data": {
      "text/plain": [
       "array([0.])"
      ]
     },
     "execution_count": 29,
     "metadata": {},
     "output_type": "execute_result"
    }
   ],
   "execution_count": 29
  },
  {
   "metadata": {},
   "cell_type": "markdown",
   "source": "### Training NLE",
   "id": "cce161b04d4115b1"
  },
  {
   "metadata": {
    "ExecuteTime": {
     "end_time": "2025-02-11T10:49:51.374968Z",
     "start_time": "2025-02-11T10:49:51.351623Z"
    }
   },
   "cell_type": "code",
   "source": [
    "# cols = ['env', 'trial', 'lambda', 'beta', 'tau', 'eps_soc']\n",
    "cols = ['beta', 'eps_soc']\n",
    "theta = torch.tensor(simulations[cols].to_numpy(), dtype=torch.float32)\n",
    "\n",
    "# divide env by max(env) and trial by max(trial) to normalize\n",
    "if 'env'in cols:\n",
    "    theta[:, 0] = theta[:, 0] / theta[:, 0].max()\n",
    "if 'trial' in cols:\n",
    "    theta[:, 1] = theta[:, 1] / theta[:, 1].max()\n",
    "\n",
    "x = torch.tensor(simulations['choice'].to_numpy(), dtype=torch.float32).unsqueeze(1)"
   ],
   "id": "4725e3d94f5c2632",
   "outputs": [],
   "execution_count": 82
  },
  {
   "metadata": {
    "ExecuteTime": {
     "end_time": "2025-02-11T12:34:53.369701Z",
     "start_time": "2025-02-11T12:34:53.257075Z"
    }
   },
   "cell_type": "code",
   "source": [
    "from sbi.utils import BoxUniform, MultipleIndependent, mcmc_transform\n",
    "from torch.distributions import LogNormal, Exponential\n",
    "\n",
    "n_env = simulations.env.unique().shape[0]\n",
    "prior = MultipleIndependent(\n",
    "    [\n",
    "        # BoxUniform(torch.tensor([0.0]), torch.tensor([1.0])),   # env\n",
    "        # BoxUniform(torch.tensor([0.0]), torch.tensor([1.0])),   # trial\n",
    "        # LogNormal(torch.tensor([-0.75]), torch.tensor([0.5])),  # lambda\n",
    "        # LogNormal(torch.tensor([-0.75]), torch.tensor([0.5])),  # beta\n",
    "        # LogNormal(torch.tensor([-4.5]), torch.tensor([0.9])),   # tau\n",
    "        # Exponential(torch.tensor([2.0])),  # eps_soc\n",
    "        # lambda, beta, tau, eps_soc\n",
    "        # (-5,3),(-5,3),(-7.5,3),(-5,np.log(19))\n",
    "        BoxUniform(torch.tensor([-5]), torch.tensor([3])),   # beta\n",
    "        BoxUniform(torch.tensor([-5]), torch.tensor([np.log(19)])),   # eps_soc\n",
    "    ],\n",
    "    validate_args=False,\n",
    ")\n",
    "\n",
    "prior_transform = mcmc_transform(prior)\n",
    "num_simulations = 10\n",
    "prior.sample((num_simulations,))"
   ],
   "id": "37fb1e88e4a60d7",
   "outputs": [
    {
     "data": {
      "text/plain": [
       "tensor([[-2.4629,  0.2402],\n",
       "        [ 2.4740, -3.6020],\n",
       "        [-2.3581, -0.7255],\n",
       "        [-2.2832, -2.1088],\n",
       "        [-2.5569,  1.2511],\n",
       "        [-3.7495, -0.9036],\n",
       "        [-2.3394, -2.3180],\n",
       "        [ 0.1717, -3.1019],\n",
       "        [-4.4045, -4.8519],\n",
       "        [-4.2975,  2.7657]])"
      ]
     },
     "execution_count": 146,
     "metadata": {},
     "output_type": "execute_result"
    }
   ],
   "execution_count": 146
  },
  {
   "metadata": {
    "ExecuteTime": {
     "end_time": "2025-02-11T12:35:07.368062Z",
     "start_time": "2025-02-11T12:35:07.322725Z"
    }
   },
   "cell_type": "code",
   "source": [
    "from sbi.inference import NLE\n",
    "trainer = NLE(prior, show_progress_bars=True, density_estimator=\"mdn\")"
   ],
   "id": "66a058bcfe6b8ffc",
   "outputs": [],
   "execution_count": 147
  },
  {
   "metadata": {
    "ExecuteTime": {
     "end_time": "2025-02-11T12:35:08.290048Z",
     "start_time": "2025-02-11T12:35:08.010108Z"
    }
   },
   "cell_type": "code",
   "source": "estimator = trainer.append_simulations(theta, x)",
   "id": "41ef2f2b17bef786",
   "outputs": [],
   "execution_count": 148
  },
  {
   "metadata": {
    "ExecuteTime": {
     "end_time": "2025-02-11T12:36:45.899789Z",
     "start_time": "2025-02-11T12:35:08.882307Z"
    }
   },
   "cell_type": "code",
   "source": "density_estimator = estimator.train()",
   "id": "74cff90b2310aab7",
   "outputs": [
    {
     "name": "stderr",
     "output_type": "stream",
     "text": [
      "/Users/valery/Library/Caches/pypoetry/virtualenvs/socialgeneralizationsbi-kycarzEV-py3.9/lib/python3.9/site-packages/torch/nn/init.py:511: UserWarning: Initializing zero-element tensors is a no-op\n",
      "  warnings.warn(\"Initializing zero-element tensors is a no-op\")\n"
     ]
    },
    {
     "name": "stdout",
     "output_type": "stream",
     "text": [
      " Neural network successfully converged after 94 epochs."
     ]
    }
   ],
   "execution_count": 149
  },
  {
   "metadata": {
    "ExecuteTime": {
     "end_time": "2025-02-11T12:41:13.642543Z",
     "start_time": "2025-02-11T12:41:13.544892Z"
    }
   },
   "cell_type": "code",
   "source": [
    "# posterior = trainer.build_posterior(density_estimator)\n",
    "# print(posterior) # prints how the posterior was trained\n",
    "# posterior_sample = posterior.sample((num_samples,), x=x_o)\n",
    "num_samples = 10000\n",
    "\n",
    "mcmc_parameters = dict(\n",
    "    num_chains=50,\n",
    "    thin=1,\n",
    "    warmup_steps=30,\n",
    "    init_strategy=\"proposal\",\n",
    ")\n",
    "mcmc_method = \"slice_np_vectorized\"\n",
    "\n",
    "posterior = trainer.build_posterior(\n",
    "    mcmc_method=mcmc_method,\n",
    "    mcmc_parameters=mcmc_parameters,\n",
    ")"
   ],
   "id": "8e295f278c5ee641",
   "outputs": [],
   "execution_count": 158
  },
  {
   "metadata": {
    "ExecuteTime": {
     "end_time": "2025-02-11T12:43:00.076546Z",
     "start_time": "2025-02-11T12:41:14.896755Z"
    }
   },
   "cell_type": "code",
   "source": [
    "_x_o = subj_data.loc[subj_data['agent'] == 1, 'choice'].values\n",
    "x_o = torch.tensor([_x_o], dtype=torch.float32)\n",
    "\n",
    "posterior_sample = posterior.sample((num_samples,), x=x_o.T)\n"
   ],
   "id": "35cd10d6d663cfcf",
   "outputs": [
    {
     "data": {
      "text/plain": [
       "Running vectorized MCMC with 50 chains:   0%|          | 0/60000 [00:00<?, ?it/s]"
      ],
      "application/vnd.jupyter.widget-view+json": {
       "version_major": 2,
       "version_minor": 0,
       "model_id": "3b10d01590e841738db1bfb197af3cbb"
      }
     },
     "metadata": {},
     "output_type": "display_data"
    }
   ],
   "execution_count": 159
  },
  {
   "metadata": {
    "ExecuteTime": {
     "end_time": "2025-02-11T12:43:34.232931Z",
     "start_time": "2025-02-11T12:43:34.043726Z"
    }
   },
   "cell_type": "code",
   "source": [
    "from sbi.analysis import pairplot\n",
    "_ = pairplot(posterior_sample, # .exp(),\n",
    "             # limits=[[0, 2], [0, 10]],\n",
    "             figsize=(6, 6),\n",
    "             labels=[r\"$\\beta$\", r\"$\\epsilon_{soc}$\"],\n",
    "             )"
   ],
   "id": "4c2c2b8072cf42df",
   "outputs": [
    {
     "data": {
      "text/plain": [
       "<Figure size 600x600 with 4 Axes>"
      ],
      "image/png": "[encoded data removed]"
     },
     "metadata": {},
     "output_type": "display_data"
    }
   ],
   "execution_count": 162
  },
  {
   "metadata": {
    "ExecuteTime": {
     "end_time": "2025-02-11T12:43:08.389771Z",
     "start_time": "2025-02-11T12:43:07.922977Z"
    }
   },
   "cell_type": "code",
   "source": [
    "import matplotlib.pyplot as plt\n",
    "fig, ax = pairplot(\n",
    "    [\n",
    "        prior.sample((1000,)), # .exp(),\n",
    "        posterior_sample, # .exp(),\n",
    "    ],\n",
    "    points=np.log([fitted_params.loc[['beta', 'eps_soc'], 'value']]),\n",
    "    diag=\"kde\",\n",
    "    upper=\"contour\",\n",
    "    diag_kwargs=dict(bins=100),\n",
    "    upper_kwargs=dict(levels=[0.95]),\n",
    "    fig_kwargs=dict(\n",
    "        points_offdiag=dict(marker=\"*\", markersize=10),\n",
    "        points_colors=[\"k\"],\n",
    "    ),\n",
    "    labels=[r\"$\\beta$\", r\"$\\epsilon_{soc}$\"],\n",
    "    figsize=(6, 6),\n",
    ")\n",
    "\n",
    "plt.sca(ax[1, 1])\n",
    "plt.legend(\n",
    "    [\"Prior\", \"Posterior\", r\"$\\theta_o$\"],\n",
    "    frameon=False,\n",
    "    fontsize=12,\n",
    ")"
   ],
   "id": "1f34924811d90a6b",
   "outputs": [
    {
     "data": {
      "text/plain": [
       "<matplotlib.legend.Legend at 0x3215f2820>"
      ]
     },
     "execution_count": 161,
     "metadata": {},
     "output_type": "execute_result"
    },
    {
     "data": {
      "text/plain": [
       "<Figure size 600x600 with 4 Axes>"
      ],
      "image/png": "[encoded data removed]"
     },
     "metadata": {},
     "output_type": "display_data"
    }
   ],
   "execution_count": 161
  },
  {
   "metadata": {
    "ExecuteTime": {
     "end_time": "2025-02-11T12:46:23.981968Z",
     "start_time": "2025-02-11T12:46:23.942906Z"
    }
   },
   "cell_type": "code",
   "source": "posterior_sample[:, 1].exp().mean()",
   "id": "7313b974ea2799b",
   "outputs": [
    {
     "data": {
      "text/plain": [
       "tensor(1.4927)"
      ]
     },
     "execution_count": 164,
     "metadata": {},
     "output_type": "execute_result"
    }
   ],
   "execution_count": 164
  },
  {
   "metadata": {
    "ExecuteTime": {
     "end_time": "2025-02-11T12:28:33.592480Z",
     "start_time": "2025-02-11T12:28:33.590030Z"
    }
   },
   "cell_type": "code",
   "source": "",
   "id": "e6f14358914e507e",
   "outputs": [],
   "execution_count": null
  },
  {
   "metadata": {},
   "cell_type": "code",
   "outputs": [],
   "execution_count": null,
   "source": "",
   "id": "2da7b7ac96bf8e7b"
  }
 ],
 "metadata": {
  "kernelspec": {
   "display_name": "Python 3",
   "language": "python",
   "name": "python3"
  },
  "language_info": {
   "codemirror_mode": {
    "name": "ipython",
    "version": 2
   },
   "file_extension": ".py",
   "mimetype": "text/x-python",
   "name": "python",
   "nbconvert_exporter": "python",
   "pygments_lexer": "ipython2",
   "version": "2.7.6"
  }
 },
 "nbformat": 4,
 "nbformat_minor": 5
}
